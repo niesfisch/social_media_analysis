{
  "cells": [
    {
      "metadata": {
        "ExecuteTime": {
          "end_time": "2025-02-07T09:15:50.203414Z",
          "start_time": "2025-02-07T09:15:50.046754Z"
        }
      },
      "cell_type": "code",
      "source": [
        "\n",
        "import hashlib\n",
        "import os\n",
        "import warnings\n",
        "\n",
        "from youtube.config import output_dir, youtube_watch_history_file, video_details_download_folder, output_dir_unique\n",
        "from youtube.helper import get_google_api_key\n",
        "\n",
        "warnings.filterwarnings('ignore')\n",
        "\n",
        "# -- some checks\n",
        "google_api_key = get_google_api_key()\n",
        "if not google_api_key:\n",
        "    raise ValueError(\"Google API key not found in ~/.social_media_stats\")\n",
        "\n",
        "if not os.path.exists(youtube_watch_history_file):\n",
        "    raise FileNotFoundError(f\"File not found: {youtube_watch_history_file}\")\n",
        "\n",
        "if not os.path.exists(output_dir_unique):\n",
        "    os.makedirs(output_dir_unique)\n",
        "\n",
        "if not os.path.exists(video_details_download_folder):\n",
        "    os.makedirs(video_details_download_folder)\n",
        "\n",
        "print(f\"Output directory for statistics: {output_dir_unique}\")\n",
        "print(f\"Output directory for downloaded video meta data: {video_details_download_folder}\")"
      ],
      "id": "4a6feb1ab54ca4c8",
      "outputs": [],
      "execution_count": null
    },
    {
      "metadata": {
        "ExecuteTime": {
          "end_time": "2025-02-07T08:00:47.437663Z",
          "start_time": "2025-02-07T08:00:47.362004Z"
        }
      },
      "cell_type": "code",
      "source": [
        "import nbformat\n",
        "print(nbformat.version_info)"
      ],
      "id": "608d0838db9e7f46",
      "outputs": [],
      "execution_count": null
    },
    {
      "metadata": {},
      "cell_type": "markdown",
      "source": "",
      "id": "9b224c2bd628bcdd"
    }
  ],
  "metadata": {
    "kernelspec": {
      "name": "python3",
      "language": "python",
      "display_name": "Python 3 (ipykernel)"
    }
  },
  "nbformat": 5,
  "nbformat_minor": 9
}
