{
  "cells": [
    {
      "metadata": {
        "ExecuteTime": {
          "end_time": "2024-12-18T19:08:38.947231Z",
          "start_time": "2024-12-18T19:08:38.297324Z"
        }
      },
      "cell_type": "code",
      "source": [
        "\n",
        "import pytz\n",
        "import json\n",
        "import os\n",
        "import warnings\n",
        "\n",
        "import pandas as pd\n",
        "\n",
        "import helper\n",
        "from youtube.config import youtube_watch_history_file, video_details_download_folder, output_dir_unique\n",
        "\n",
        "warnings.filterwarnings('ignore')\n",
        "\n",
        "df = pd.read_json(youtube_watch_history_file)\n",
        "\n",
        "# extract video_id from titleUrl\n",
        "df['video_id'] = df['titleUrl'].str.extract(r'v=(.*)')\n",
        "\n",
        "# keep rows where 'details' column is NaN which means not Ads\n",
        "df = df[df['details'].isna()].reset_index()\n",
        "\n",
        "# create a list of video_ids from the existing 'video_id' column\n",
        "video_ids = df['video_id'].tolist()\n",
        "print(f\"total videos: {len(video_ids)}\")\n",
        "\n",
        "# Ensure the 'time' column is of datetime type\n",
        "df['time'] = pd.to_datetime(df['time'], errors='coerce')\n",
        "# Convert the 'time' column to Berlin timezone\n",
        "berlin_tz = pytz.timezone('Europe/Berlin')\n",
        "df['time'] = df['time'].dt.tz_convert(berlin_tz)\n",
        "df.to_csv(os.path.join(output_dir_unique, 'watch_history.csv'), index=False)\n",
        "df"
      ],
      "id": "4a6feb1ab54ca4c8",
      "outputs": [],
      "execution_count": null
    },
    {
      "metadata": {
        "ExecuteTime": {
          "end_time": "2024-12-18T19:08:39.263910Z",
          "start_time": "2024-12-18T19:08:39.032515Z"
        }
      },
      "cell_type": "code",
      "source": [
        "import pandas as pd\n",
        "import matplotlib.pyplot as plt\n",
        "\n",
        "# Ensure the 'time' column is of datetime type\n",
        "df['time'] = pd.to_datetime(df['time'], errors='coerce')\n",
        "\n",
        "# Extract the hour from the 'time' column\n",
        "df['hour'] = df['time'].dt.hour\n",
        "\n",
        "# Group by hour and count the number of videos streamed\n",
        "videos_per_hour = df.groupby('hour').size().reset_index(name='video_count')\n",
        "\n",
        "# Plot the data\n",
        "plt.figure(figsize=(12, 6))\n",
        "plt.bar(videos_per_hour['hour'], videos_per_hour['video_count'], color='skyblue')\n",
        "plt.xlabel('Hour of Day')\n",
        "plt.ylabel('Number of Videos Streamed')\n",
        "plt.title('Number of Videos Streamed per Hour of Day')\n",
        "plt.xticks(range(24))\n",
        "plt.grid(True)\n",
        "# plt.savefig(os.path.join(output_dir_unique, 'videos_streamed_per_hour.png'), bbox_inches='tight')\n",
        "plt.savefig(os.path.join(output_dir_unique, 'videos_streamed_per_hour.png'), bbox_inches='tight')\n",
        "plt.show()"
      ],
      "id": "2d48891755bc27f1",
      "outputs": [],
      "execution_count": null
    },
    {
      "metadata": {
        "ExecuteTime": {
          "end_time": "2024-12-18T19:08:39.590470Z",
          "start_time": "2024-12-18T19:08:39.311110Z"
        }
      },
      "cell_type": "code",
      "source": [
        "import pandas as pd\n",
        "import matplotlib.pyplot as plt\n",
        "\n",
        "# Ensure the 'time' column is of datetime type\n",
        "df['time'] = pd.to_datetime(df['time'], errors='coerce')\n",
        "\n",
        "# Extract the year and month from the 'time' column\n",
        "df['year'] = df['time'].dt.year\n",
        "df['month'] = df['time'].dt.month\n",
        "\n",
        "# Group by year and month and count the number of videos streamed\n",
        "videos_per_year_month = df.groupby(['year', 'month']).size().reset_index(name='video_count')\n",
        "\n",
        "# Create a pivot table for better visualization\n",
        "pivot_table = videos_per_year_month.pivot(index='month', columns='year', values='video_count')\n",
        "\n",
        "# Plot the data\n",
        "plt.figure(figsize=(12, 6))\n",
        "pivot_table.plot(kind='bar', colormap='viridis', ax=plt.gca())\n",
        "plt.xlabel('Month')\n",
        "plt.ylabel('Number of Videos Streamed')\n",
        "plt.title('Total Videos Streamed per Month and Year')\n",
        "plt.legend(title='Year')\n",
        "plt.grid(True)\n",
        "plt.savefig(os.path.join(output_dir_unique, 'videos_streamed_per_month.png'), bbox_inches='tight')\n",
        "plt.show()"
      ],
      "id": "392c834ab626d3ac",
      "outputs": [],
      "execution_count": null
    },
    {
      "metadata": {
        "ExecuteTime": {
          "end_time": "2024-12-18T19:08:39.990794Z",
          "start_time": "2024-12-18T19:08:39.597776Z"
        }
      },
      "cell_type": "code",
      "source": [
        "import pandas as pd\n",
        "import matplotlib.pyplot as plt\n",
        "import numpy as np\n",
        "\n",
        "# Ensure the 'time' column is of datetime type\n",
        "df['time'] = pd.to_datetime(df['time'], errors='coerce')\n",
        "\n",
        "# Extract the year from the 'time' column\n",
        "df['year'] = df['time'].dt.year\n",
        "\n",
        "# Group by year and count the number of videos streamed\n",
        "videos_per_year = df.groupby('year').size().reset_index(name='video_count')\n",
        "\n",
        "# Plot the data\n",
        "plt.figure(figsize=(12, 6))\n",
        "plt.bar(videos_per_year['year'], videos_per_year['video_count'], color='skyblue', width=0.8, align='center')\n",
        "plt.xlabel('Year')\n",
        "plt.ylabel('Number of Videos Streamed')\n",
        "plt.title('Total Videos Streamed per Year')\n",
        "plt.grid(True)\n",
        "\n",
        "# Add trendline\n",
        "z = np.polyfit(videos_per_year['year'], videos_per_year['video_count'], 1)\n",
        "p = np.poly1d(z)\n",
        "plt.plot(videos_per_year['year'], p(videos_per_year['year']), color='red', linestyle='--', label='Trendline')\n",
        "plt.legend()\n",
        "plt.savefig(os.path.join(output_dir_unique, 'videos_streamed_per_year.png'), bbox_inches='tight')\n",
        "plt.show()"
      ],
      "id": "eaaab40bb52c2a4d",
      "outputs": [],
      "execution_count": null
    },
    {
      "metadata": {
        "ExecuteTime": {
          "end_time": "2024-12-18T19:08:40.276419Z",
          "start_time": "2024-12-18T19:08:40.004743Z"
        }
      },
      "cell_type": "code",
      "source": [
        "import pandas as pd\n",
        "import matplotlib.pyplot as plt\n",
        "import numpy as np\n",
        "import matplotlib.colors as mcolors\n",
        "\n",
        "# Ensure the 'time' column is of datetime type\n",
        "df['time'] = pd.to_datetime(df['time'], errors='coerce')\n",
        "\n",
        "# Extract the year and month from the 'time' column\n",
        "df['year'] = df['time'].dt.year\n",
        "df['month'] = df['time'].dt.month\n",
        "\n",
        "# Group by year and month and count the number of videos streamed\n",
        "videos_per_year_month = df.groupby(['year', 'month']).size().reset_index(name='video_count')\n",
        "\n",
        "# Calculate the number of days in each month\n",
        "videos_per_year_month['days_in_month'] = videos_per_year_month.apply(\n",
        "    lambda row: pd.Period(year=row['year'], month=row['month'], freq='M').days_in_month, axis=1\n",
        ")\n",
        "\n",
        "# Compute the average number of videos streamed per day for each month\n",
        "videos_per_year_month['avg_videos_per_day'] = videos_per_year_month['video_count'] / videos_per_year_month['days_in_month']\n",
        "\n",
        "# Create a pivot table for better visualization\n",
        "pivot_table = videos_per_year_month.pivot(index='month', columns='year', values='avg_videos_per_day')\n",
        "\n",
        "# Define a colormap\n",
        "colors = plt.cm.viridis(np.linspace(0, 1, len(pivot_table.columns)))\n",
        "\n",
        "# Plot the data\n",
        "plt.figure(figsize=(12, 6))\n",
        "pivot_table.plot(kind='bar', color=colors, ax=plt.gca())\n",
        "plt.xlabel('Month')\n",
        "plt.ylabel('Average Number of Videos Streamed per Day')\n",
        "plt.title('Average Videos Streamed per Day per Month and Year')\n",
        "plt.legend(title='Year')\n",
        "plt.grid(True)\n",
        "\n",
        "plt.savefig(os.path.join(output_dir_unique, 'avg_videos_streamed_per_day_per_month.png'), bbox_inches='tight')\n",
        "plt.show()"
      ],
      "id": "265e6472a9a3698b",
      "outputs": [],
      "execution_count": null
    },
    {
      "metadata": {},
      "cell_type": "markdown",
      "source": "",
      "id": "9b224c2bd628bcdd"
    }
  ],
  "metadata": {
    "kernelspec": {
      "name": "python3",
      "language": "python",
      "display_name": "Python 3 (ipykernel)"
    }
  },
  "nbformat": 5,
  "nbformat_minor": 9
}
